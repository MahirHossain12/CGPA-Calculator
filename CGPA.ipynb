{
  "nbformat": 4,
  "nbformat_minor": 0,
  "metadata": {
    "colab": {
      "provenance": []
    },
    "kernelspec": {
      "name": "python3",
      "display_name": "Python 3"
    },
    "language_info": {
      "name": "python"
    }
  },
  "cells": [
    {
      "cell_type": "code",
      "execution_count": 3,
      "metadata": {
        "id": "kxZ_6kCNNJcd"
      },
      "outputs": [],
      "source": [
        "def grade_points():\n",
        "    return {\n",
        "        'A+': 4.00, 'A': 3.75, 'A-': 3.50, 'B+': 3.25, 'B': 3.00,\n",
        "        'B-': 2.75, 'C+': 2.50, 'C': 2.25, 'D': 2.00, 'F': 0.00\n",
        "    }\n",
        "\n",
        "def credit_options():\n",
        "    return [0, 0.5, 0.75, 1, 1.25, 1.5, 1.75, 2, 2.25, 2.5, 2.75, 3, 3.25, 3.5, 3.75, 4]\n",
        "\n",
        "\n"
      ]
    },
    {
      "cell_type": "code",
      "source": [
        "def show_menu(items, message):\n",
        "    print(f\"\\n{message}\")\n",
        "    for i in range(len(items)):\n",
        "        print(f\"{i+1}. {items[i]}\")\n",
        "    while True:\n",
        "        try:\n",
        "            choice = int(input(\"Enter your choice number: \"))\n",
        "            if 1 <= choice <= len(items):\n",
        "                return items[choice - 1]\n",
        "            print(f\"Please choose a number between 1 and {len(items)}\")\n",
        "        except ValueError:\n",
        "            print(\"Invalid input. Please enter a number.\")\n",
        "\n",
        "def compute_cgpa(data):\n",
        "    total_gp = 0\n",
        "    total_ch = 0\n",
        "    last_gp = 0\n",
        "    last_ch = 0\n",
        "\n",
        "    for sem, subjects in data.items():\n",
        "        for gp, ch in subjects:\n",
        "            total_gp += gp * ch\n",
        "            total_ch += ch\n",
        "            if sem >= 5:\n",
        "                last_gp += gp * ch\n",
        "                last_ch += ch\n",
        "\n",
        "    overall = total_gp / total_ch if total_ch > 0 else None\n",
        "    last_2_years = last_gp / last_ch if last_ch > 0 else None\n",
        "    return overall, last_2_years\n",
        "\n"
      ],
      "metadata": {
        "id": "Do8ymMknN_YZ"
      },
      "execution_count": 4,
      "outputs": []
    },
    {
      "cell_type": "code",
      "source": [
        "def main():\n",
        "    print(\"\\n=== CGPA Calculator ===\\n\")\n",
        "    print(\"Enter your grades and credits for each semester.\\n\")\n",
        "\n",
        "    grades = list(grade_points().keys())\n",
        "    credits = credit_options()\n",
        "    grade_map = grade_points()\n",
        "    all_data = {}\n",
        "\n",
        "    try:\n",
        "        for sem in range(1, 9):\n",
        "            print(f\"\\nSemester {sem}\")\n",
        "            course_count = show_menu([str(i) for i in range(11)], \"How many courses? (0 to skip):\")\n",
        "            course_count = int(course_count)\n",
        "            subjects = []\n",
        "\n",
        "            for c in range(1, course_count + 1):\n",
        "                print(f\"\\nCourse {c}\")\n",
        "                g = show_menu(grades, \"Select grade:\")\n",
        "                ch = float(show_menu([str(c) for c in credits], \"Select credit:\"))\n",
        "                subjects.append((grade_map[g], ch))\n",
        "\n",
        "            all_data[sem] = subjects\n",
        "\n",
        "        overall, last_2 = compute_cgpa(all_data)\n",
        "\n",
        "        print(\"\\n=== Results ===\")\n",
        "        if overall is not None:\n",
        "            print(f\"Overall CGPA: {overall:.2f}\")\n",
        "        else:\n",
        "            print(\"Overall CGPA: Not available\")\n",
        "\n",
        "        if last_2 is not None:\n",
        "            print(f\"Last 2 Years CGPA (Sem 5–8): {last_2:.2f}\")\n",
        "        else:\n",
        "            print(\"Last 2 Years CGPA: Not available\")\n",
        "\n",
        "        with open(\"cgpa_results.txt\", \"w\") as file:\n",
        "            file.write(\"=== CGPA Results ===\\n\")\n",
        "            file.write(f\"Overall CGPA: {overall:.2f}\\n\" if overall else \"Overall CGPA: Not available\\n\")\n",
        "            file.write(f\"Last 2 Years CGPA: {last_2:.2f}\\n\" if last_2 else \"Last 2 Years CGPA: Not available\\n\")\n",
        "            file.write(\"=\" * 30)\n",
        "        print(\"Saved to cgpa_results.txt\")\n",
        "\n",
        "    except KeyboardInterrupt:\n",
        "        print(\"\\nStopped by user.\")\n",
        "    except Exception as err:\n",
        "        print(f\"\\nSomething went wrong: {err}\")\n",
        "\n",
        "if __name__ == \"__main__\":\n",
        "    main()"
      ],
      "metadata": {
        "colab": {
          "base_uri": "https://localhost:8080/"
        },
        "id": "542v7ujnODA4",
        "outputId": "9c329614-a7e8-4959-c9fb-ad4d0163bfd8"
      },
      "execution_count": 5,
      "outputs": [
        {
          "output_type": "stream",
          "name": "stdout",
          "text": [
            "\n",
            "=== CGPA Calculator ===\n",
            "\n",
            "Enter your grades and credits for each semester.\n",
            "\n",
            "\n",
            "Semester 1\n",
            "\n",
            "How many courses? (0 to skip):\n",
            "1. 0\n",
            "2. 1\n",
            "3. 2\n",
            "4. 3\n",
            "5. 4\n",
            "6. 5\n",
            "7. 6\n",
            "8. 7\n",
            "9. 8\n",
            "10. 9\n",
            "11. 10\n",
            "\n",
            "Stopped by user.\n"
          ]
        }
      ]
    }
  ]
}